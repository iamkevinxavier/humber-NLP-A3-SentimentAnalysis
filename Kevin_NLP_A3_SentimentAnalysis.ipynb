{
  "nbformat": 4,
  "nbformat_minor": 0,
  "metadata": {
    "colab": {
      "provenance": []
    },
    "kernelspec": {
      "name": "python3",
      "display_name": "Python 3"
    },
    "language_info": {
      "name": "python"
    }
  },
  "cells": [
    {
      "cell_type": "markdown",
      "source": [
        "# NLP - Assignment 3 - Sentiment Analysis - Vader\n",
        "\n",
        "### Student Name : Kevin Xavier Antony Arul Xavier\n",
        "### Student ID : N01584909"
      ],
      "metadata": {
        "id": "g1oQd39gaJUg"
      }
    },
    {
      "cell_type": "code",
      "source": [
        "# importing necessary libraries\n",
        "import numpy as np\n",
        "import pandas as pd\n",
        "\n",
        "import matplotlib.pyplot as plt\n",
        "import seaborn as sns\n",
        "\n",
        "from sklearn.model_selection import train_test_split\n",
        "from sklearn.feature_extraction.text import TfidfVectorizer\n",
        "\n",
        "from sklearn.linear_model import LogisticRegression\n",
        "from sklearn.neighbors import KNeighborsClassifier\n",
        "from sklearn.pipeline import Pipeline\n",
        "\n",
        "from sklearn.metrics import accuracy_score, confusion_matrix, classification_report\n",
        "\n",
        "!pip install vaderSentiment\n",
        "from vaderSentiment.vaderSentiment import SentimentIntensityAnalyzer"
      ],
      "metadata": {
        "colab": {
          "base_uri": "https://localhost:8080/"
        },
        "id": "KAVLQUEgZXqE",
        "outputId": "20d768d8-6491-4de9-91a7-b4090d67afcd"
      },
      "execution_count": 29,
      "outputs": [
        {
          "output_type": "stream",
          "name": "stdout",
          "text": [
            "Requirement already satisfied: vaderSentiment in /usr/local/lib/python3.10/dist-packages (3.3.2)\n",
            "Requirement already satisfied: requests in /usr/local/lib/python3.10/dist-packages (from vaderSentiment) (2.32.3)\n",
            "Requirement already satisfied: charset-normalizer<4,>=2 in /usr/local/lib/python3.10/dist-packages (from requests->vaderSentiment) (3.3.2)\n",
            "Requirement already satisfied: idna<4,>=2.5 in /usr/local/lib/python3.10/dist-packages (from requests->vaderSentiment) (3.10)\n",
            "Requirement already satisfied: urllib3<3,>=1.21.1 in /usr/local/lib/python3.10/dist-packages (from requests->vaderSentiment) (2.2.3)\n",
            "Requirement already satisfied: certifi>=2017.4.17 in /usr/local/lib/python3.10/dist-packages (from requests->vaderSentiment) (2024.8.30)\n"
          ]
        }
      ]
    },
    {
      "cell_type": "code",
      "source": [
        "from google.colab import files\n",
        "uploaded = files.upload()"
      ],
      "metadata": {
        "colab": {
          "base_uri": "https://localhost:8080/",
          "height": 73
        },
        "id": "lVX9QHVKOM6M",
        "outputId": "a7a145b1-bfa0-4794-8879-5265cd7d430b"
      },
      "execution_count": 3,
      "outputs": [
        {
          "output_type": "display_data",
          "data": {
            "text/plain": [
              "<IPython.core.display.HTML object>"
            ],
            "text/html": [
              "\n",
              "     <input type=\"file\" id=\"files-8c111fe2-7dd7-4d55-b489-74134ca73d1e\" name=\"files[]\" multiple disabled\n",
              "        style=\"border:none\" />\n",
              "     <output id=\"result-8c111fe2-7dd7-4d55-b489-74134ca73d1e\">\n",
              "      Upload widget is only available when the cell has been executed in the\n",
              "      current browser session. Please rerun this cell to enable.\n",
              "      </output>\n",
              "      <script>// Copyright 2017 Google LLC\n",
              "//\n",
              "// Licensed under the Apache License, Version 2.0 (the \"License\");\n",
              "// you may not use this file except in compliance with the License.\n",
              "// You may obtain a copy of the License at\n",
              "//\n",
              "//      http://www.apache.org/licenses/LICENSE-2.0\n",
              "//\n",
              "// Unless required by applicable law or agreed to in writing, software\n",
              "// distributed under the License is distributed on an \"AS IS\" BASIS,\n",
              "// WITHOUT WARRANTIES OR CONDITIONS OF ANY KIND, either express or implied.\n",
              "// See the License for the specific language governing permissions and\n",
              "// limitations under the License.\n",
              "\n",
              "/**\n",
              " * @fileoverview Helpers for google.colab Python module.\n",
              " */\n",
              "(function(scope) {\n",
              "function span(text, styleAttributes = {}) {\n",
              "  const element = document.createElement('span');\n",
              "  element.textContent = text;\n",
              "  for (const key of Object.keys(styleAttributes)) {\n",
              "    element.style[key] = styleAttributes[key];\n",
              "  }\n",
              "  return element;\n",
              "}\n",
              "\n",
              "// Max number of bytes which will be uploaded at a time.\n",
              "const MAX_PAYLOAD_SIZE = 100 * 1024;\n",
              "\n",
              "function _uploadFiles(inputId, outputId) {\n",
              "  const steps = uploadFilesStep(inputId, outputId);\n",
              "  const outputElement = document.getElementById(outputId);\n",
              "  // Cache steps on the outputElement to make it available for the next call\n",
              "  // to uploadFilesContinue from Python.\n",
              "  outputElement.steps = steps;\n",
              "\n",
              "  return _uploadFilesContinue(outputId);\n",
              "}\n",
              "\n",
              "// This is roughly an async generator (not supported in the browser yet),\n",
              "// where there are multiple asynchronous steps and the Python side is going\n",
              "// to poll for completion of each step.\n",
              "// This uses a Promise to block the python side on completion of each step,\n",
              "// then passes the result of the previous step as the input to the next step.\n",
              "function _uploadFilesContinue(outputId) {\n",
              "  const outputElement = document.getElementById(outputId);\n",
              "  const steps = outputElement.steps;\n",
              "\n",
              "  const next = steps.next(outputElement.lastPromiseValue);\n",
              "  return Promise.resolve(next.value.promise).then((value) => {\n",
              "    // Cache the last promise value to make it available to the next\n",
              "    // step of the generator.\n",
              "    outputElement.lastPromiseValue = value;\n",
              "    return next.value.response;\n",
              "  });\n",
              "}\n",
              "\n",
              "/**\n",
              " * Generator function which is called between each async step of the upload\n",
              " * process.\n",
              " * @param {string} inputId Element ID of the input file picker element.\n",
              " * @param {string} outputId Element ID of the output display.\n",
              " * @return {!Iterable<!Object>} Iterable of next steps.\n",
              " */\n",
              "function* uploadFilesStep(inputId, outputId) {\n",
              "  const inputElement = document.getElementById(inputId);\n",
              "  inputElement.disabled = false;\n",
              "\n",
              "  const outputElement = document.getElementById(outputId);\n",
              "  outputElement.innerHTML = '';\n",
              "\n",
              "  const pickedPromise = new Promise((resolve) => {\n",
              "    inputElement.addEventListener('change', (e) => {\n",
              "      resolve(e.target.files);\n",
              "    });\n",
              "  });\n",
              "\n",
              "  const cancel = document.createElement('button');\n",
              "  inputElement.parentElement.appendChild(cancel);\n",
              "  cancel.textContent = 'Cancel upload';\n",
              "  const cancelPromise = new Promise((resolve) => {\n",
              "    cancel.onclick = () => {\n",
              "      resolve(null);\n",
              "    };\n",
              "  });\n",
              "\n",
              "  // Wait for the user to pick the files.\n",
              "  const files = yield {\n",
              "    promise: Promise.race([pickedPromise, cancelPromise]),\n",
              "    response: {\n",
              "      action: 'starting',\n",
              "    }\n",
              "  };\n",
              "\n",
              "  cancel.remove();\n",
              "\n",
              "  // Disable the input element since further picks are not allowed.\n",
              "  inputElement.disabled = true;\n",
              "\n",
              "  if (!files) {\n",
              "    return {\n",
              "      response: {\n",
              "        action: 'complete',\n",
              "      }\n",
              "    };\n",
              "  }\n",
              "\n",
              "  for (const file of files) {\n",
              "    const li = document.createElement('li');\n",
              "    li.append(span(file.name, {fontWeight: 'bold'}));\n",
              "    li.append(span(\n",
              "        `(${file.type || 'n/a'}) - ${file.size} bytes, ` +\n",
              "        `last modified: ${\n",
              "            file.lastModifiedDate ? file.lastModifiedDate.toLocaleDateString() :\n",
              "                                    'n/a'} - `));\n",
              "    const percent = span('0% done');\n",
              "    li.appendChild(percent);\n",
              "\n",
              "    outputElement.appendChild(li);\n",
              "\n",
              "    const fileDataPromise = new Promise((resolve) => {\n",
              "      const reader = new FileReader();\n",
              "      reader.onload = (e) => {\n",
              "        resolve(e.target.result);\n",
              "      };\n",
              "      reader.readAsArrayBuffer(file);\n",
              "    });\n",
              "    // Wait for the data to be ready.\n",
              "    let fileData = yield {\n",
              "      promise: fileDataPromise,\n",
              "      response: {\n",
              "        action: 'continue',\n",
              "      }\n",
              "    };\n",
              "\n",
              "    // Use a chunked sending to avoid message size limits. See b/62115660.\n",
              "    let position = 0;\n",
              "    do {\n",
              "      const length = Math.min(fileData.byteLength - position, MAX_PAYLOAD_SIZE);\n",
              "      const chunk = new Uint8Array(fileData, position, length);\n",
              "      position += length;\n",
              "\n",
              "      const base64 = btoa(String.fromCharCode.apply(null, chunk));\n",
              "      yield {\n",
              "        response: {\n",
              "          action: 'append',\n",
              "          file: file.name,\n",
              "          data: base64,\n",
              "        },\n",
              "      };\n",
              "\n",
              "      let percentDone = fileData.byteLength === 0 ?\n",
              "          100 :\n",
              "          Math.round((position / fileData.byteLength) * 100);\n",
              "      percent.textContent = `${percentDone}% done`;\n",
              "\n",
              "    } while (position < fileData.byteLength);\n",
              "  }\n",
              "\n",
              "  // All done.\n",
              "  yield {\n",
              "    response: {\n",
              "      action: 'complete',\n",
              "    }\n",
              "  };\n",
              "}\n",
              "\n",
              "scope.google = scope.google || {};\n",
              "scope.google.colab = scope.google.colab || {};\n",
              "scope.google.colab._files = {\n",
              "  _uploadFiles,\n",
              "  _uploadFilesContinue,\n",
              "};\n",
              "})(self);\n",
              "</script> "
            ]
          },
          "metadata": {}
        },
        {
          "output_type": "stream",
          "name": "stdout",
          "text": [
            "Saving amazonreviews.tsv to amazonreviews.tsv\n"
          ]
        }
      ]
    },
    {
      "cell_type": "markdown",
      "source": [
        "# 1. A dataset called amazonreviews is provided.\n",
        "# 2. Read the dataset and check for the null values."
      ],
      "metadata": {
        "id": "uQd0jGR9OzDk"
      }
    },
    {
      "cell_type": "code",
      "source": [
        "# read the dataset\n",
        "reviews = pd.read_csv('amazonreviews.tsv', sep='\\t')"
      ],
      "metadata": {
        "id": "_F9ae4uIOceg"
      },
      "execution_count": 5,
      "outputs": []
    },
    {
      "cell_type": "code",
      "source": [
        "print(reviews.shape)\n",
        "reviews.head()"
      ],
      "metadata": {
        "colab": {
          "base_uri": "https://localhost:8080/",
          "height": 223
        },
        "id": "xvAQmfXXOj5h",
        "outputId": "4cc24267-f428-48a6-e051-a53b22195379"
      },
      "execution_count": 6,
      "outputs": [
        {
          "output_type": "stream",
          "name": "stdout",
          "text": [
            "(10000, 2)\n"
          ]
        },
        {
          "output_type": "execute_result",
          "data": {
            "text/plain": [
              "  label                                             review\n",
              "0   pos  Stuning even for the non-gamer: This sound tra...\n",
              "1   pos  The best soundtrack ever to anything.: I'm rea...\n",
              "2   pos  Amazing!: This soundtrack is my favorite music...\n",
              "3   pos  Excellent Soundtrack: I truly like this soundt...\n",
              "4   pos  Remember, Pull Your Jaw Off The Floor After He..."
            ],
            "text/html": [
              "\n",
              "  <div id=\"df-9890085a-cb53-4c29-bf25-9f54ffe199b8\" class=\"colab-df-container\">\n",
              "    <div>\n",
              "<style scoped>\n",
              "    .dataframe tbody tr th:only-of-type {\n",
              "        vertical-align: middle;\n",
              "    }\n",
              "\n",
              "    .dataframe tbody tr th {\n",
              "        vertical-align: top;\n",
              "    }\n",
              "\n",
              "    .dataframe thead th {\n",
              "        text-align: right;\n",
              "    }\n",
              "</style>\n",
              "<table border=\"1\" class=\"dataframe\">\n",
              "  <thead>\n",
              "    <tr style=\"text-align: right;\">\n",
              "      <th></th>\n",
              "      <th>label</th>\n",
              "      <th>review</th>\n",
              "    </tr>\n",
              "  </thead>\n",
              "  <tbody>\n",
              "    <tr>\n",
              "      <th>0</th>\n",
              "      <td>pos</td>\n",
              "      <td>Stuning even for the non-gamer: This sound tra...</td>\n",
              "    </tr>\n",
              "    <tr>\n",
              "      <th>1</th>\n",
              "      <td>pos</td>\n",
              "      <td>The best soundtrack ever to anything.: I'm rea...</td>\n",
              "    </tr>\n",
              "    <tr>\n",
              "      <th>2</th>\n",
              "      <td>pos</td>\n",
              "      <td>Amazing!: This soundtrack is my favorite music...</td>\n",
              "    </tr>\n",
              "    <tr>\n",
              "      <th>3</th>\n",
              "      <td>pos</td>\n",
              "      <td>Excellent Soundtrack: I truly like this soundt...</td>\n",
              "    </tr>\n",
              "    <tr>\n",
              "      <th>4</th>\n",
              "      <td>pos</td>\n",
              "      <td>Remember, Pull Your Jaw Off The Floor After He...</td>\n",
              "    </tr>\n",
              "  </tbody>\n",
              "</table>\n",
              "</div>\n",
              "    <div class=\"colab-df-buttons\">\n",
              "\n",
              "  <div class=\"colab-df-container\">\n",
              "    <button class=\"colab-df-convert\" onclick=\"convertToInteractive('df-9890085a-cb53-4c29-bf25-9f54ffe199b8')\"\n",
              "            title=\"Convert this dataframe to an interactive table.\"\n",
              "            style=\"display:none;\">\n",
              "\n",
              "  <svg xmlns=\"http://www.w3.org/2000/svg\" height=\"24px\" viewBox=\"0 -960 960 960\">\n",
              "    <path d=\"M120-120v-720h720v720H120Zm60-500h600v-160H180v160Zm220 220h160v-160H400v160Zm0 220h160v-160H400v160ZM180-400h160v-160H180v160Zm440 0h160v-160H620v160ZM180-180h160v-160H180v160Zm440 0h160v-160H620v160Z\"/>\n",
              "  </svg>\n",
              "    </button>\n",
              "\n",
              "  <style>\n",
              "    .colab-df-container {\n",
              "      display:flex;\n",
              "      gap: 12px;\n",
              "    }\n",
              "\n",
              "    .colab-df-convert {\n",
              "      background-color: #E8F0FE;\n",
              "      border: none;\n",
              "      border-radius: 50%;\n",
              "      cursor: pointer;\n",
              "      display: none;\n",
              "      fill: #1967D2;\n",
              "      height: 32px;\n",
              "      padding: 0 0 0 0;\n",
              "      width: 32px;\n",
              "    }\n",
              "\n",
              "    .colab-df-convert:hover {\n",
              "      background-color: #E2EBFA;\n",
              "      box-shadow: 0px 1px 2px rgba(60, 64, 67, 0.3), 0px 1px 3px 1px rgba(60, 64, 67, 0.15);\n",
              "      fill: #174EA6;\n",
              "    }\n",
              "\n",
              "    .colab-df-buttons div {\n",
              "      margin-bottom: 4px;\n",
              "    }\n",
              "\n",
              "    [theme=dark] .colab-df-convert {\n",
              "      background-color: #3B4455;\n",
              "      fill: #D2E3FC;\n",
              "    }\n",
              "\n",
              "    [theme=dark] .colab-df-convert:hover {\n",
              "      background-color: #434B5C;\n",
              "      box-shadow: 0px 1px 3px 1px rgba(0, 0, 0, 0.15);\n",
              "      filter: drop-shadow(0px 1px 2px rgba(0, 0, 0, 0.3));\n",
              "      fill: #FFFFFF;\n",
              "    }\n",
              "  </style>\n",
              "\n",
              "    <script>\n",
              "      const buttonEl =\n",
              "        document.querySelector('#df-9890085a-cb53-4c29-bf25-9f54ffe199b8 button.colab-df-convert');\n",
              "      buttonEl.style.display =\n",
              "        google.colab.kernel.accessAllowed ? 'block' : 'none';\n",
              "\n",
              "      async function convertToInteractive(key) {\n",
              "        const element = document.querySelector('#df-9890085a-cb53-4c29-bf25-9f54ffe199b8');\n",
              "        const dataTable =\n",
              "          await google.colab.kernel.invokeFunction('convertToInteractive',\n",
              "                                                    [key], {});\n",
              "        if (!dataTable) return;\n",
              "\n",
              "        const docLinkHtml = 'Like what you see? Visit the ' +\n",
              "          '<a target=\"_blank\" href=https://colab.research.google.com/notebooks/data_table.ipynb>data table notebook</a>'\n",
              "          + ' to learn more about interactive tables.';\n",
              "        element.innerHTML = '';\n",
              "        dataTable['output_type'] = 'display_data';\n",
              "        await google.colab.output.renderOutput(dataTable, element);\n",
              "        const docLink = document.createElement('div');\n",
              "        docLink.innerHTML = docLinkHtml;\n",
              "        element.appendChild(docLink);\n",
              "      }\n",
              "    </script>\n",
              "  </div>\n",
              "\n",
              "\n",
              "<div id=\"df-e2510103-bf5c-4f81-a5fc-a7a1c3dc5aa3\">\n",
              "  <button class=\"colab-df-quickchart\" onclick=\"quickchart('df-e2510103-bf5c-4f81-a5fc-a7a1c3dc5aa3')\"\n",
              "            title=\"Suggest charts\"\n",
              "            style=\"display:none;\">\n",
              "\n",
              "<svg xmlns=\"http://www.w3.org/2000/svg\" height=\"24px\"viewBox=\"0 0 24 24\"\n",
              "     width=\"24px\">\n",
              "    <g>\n",
              "        <path d=\"M19 3H5c-1.1 0-2 .9-2 2v14c0 1.1.9 2 2 2h14c1.1 0 2-.9 2-2V5c0-1.1-.9-2-2-2zM9 17H7v-7h2v7zm4 0h-2V7h2v10zm4 0h-2v-4h2v4z\"/>\n",
              "    </g>\n",
              "</svg>\n",
              "  </button>\n",
              "\n",
              "<style>\n",
              "  .colab-df-quickchart {\n",
              "      --bg-color: #E8F0FE;\n",
              "      --fill-color: #1967D2;\n",
              "      --hover-bg-color: #E2EBFA;\n",
              "      --hover-fill-color: #174EA6;\n",
              "      --disabled-fill-color: #AAA;\n",
              "      --disabled-bg-color: #DDD;\n",
              "  }\n",
              "\n",
              "  [theme=dark] .colab-df-quickchart {\n",
              "      --bg-color: #3B4455;\n",
              "      --fill-color: #D2E3FC;\n",
              "      --hover-bg-color: #434B5C;\n",
              "      --hover-fill-color: #FFFFFF;\n",
              "      --disabled-bg-color: #3B4455;\n",
              "      --disabled-fill-color: #666;\n",
              "  }\n",
              "\n",
              "  .colab-df-quickchart {\n",
              "    background-color: var(--bg-color);\n",
              "    border: none;\n",
              "    border-radius: 50%;\n",
              "    cursor: pointer;\n",
              "    display: none;\n",
              "    fill: var(--fill-color);\n",
              "    height: 32px;\n",
              "    padding: 0;\n",
              "    width: 32px;\n",
              "  }\n",
              "\n",
              "  .colab-df-quickchart:hover {\n",
              "    background-color: var(--hover-bg-color);\n",
              "    box-shadow: 0 1px 2px rgba(60, 64, 67, 0.3), 0 1px 3px 1px rgba(60, 64, 67, 0.15);\n",
              "    fill: var(--button-hover-fill-color);\n",
              "  }\n",
              "\n",
              "  .colab-df-quickchart-complete:disabled,\n",
              "  .colab-df-quickchart-complete:disabled:hover {\n",
              "    background-color: var(--disabled-bg-color);\n",
              "    fill: var(--disabled-fill-color);\n",
              "    box-shadow: none;\n",
              "  }\n",
              "\n",
              "  .colab-df-spinner {\n",
              "    border: 2px solid var(--fill-color);\n",
              "    border-color: transparent;\n",
              "    border-bottom-color: var(--fill-color);\n",
              "    animation:\n",
              "      spin 1s steps(1) infinite;\n",
              "  }\n",
              "\n",
              "  @keyframes spin {\n",
              "    0% {\n",
              "      border-color: transparent;\n",
              "      border-bottom-color: var(--fill-color);\n",
              "      border-left-color: var(--fill-color);\n",
              "    }\n",
              "    20% {\n",
              "      border-color: transparent;\n",
              "      border-left-color: var(--fill-color);\n",
              "      border-top-color: var(--fill-color);\n",
              "    }\n",
              "    30% {\n",
              "      border-color: transparent;\n",
              "      border-left-color: var(--fill-color);\n",
              "      border-top-color: var(--fill-color);\n",
              "      border-right-color: var(--fill-color);\n",
              "    }\n",
              "    40% {\n",
              "      border-color: transparent;\n",
              "      border-right-color: var(--fill-color);\n",
              "      border-top-color: var(--fill-color);\n",
              "    }\n",
              "    60% {\n",
              "      border-color: transparent;\n",
              "      border-right-color: var(--fill-color);\n",
              "    }\n",
              "    80% {\n",
              "      border-color: transparent;\n",
              "      border-right-color: var(--fill-color);\n",
              "      border-bottom-color: var(--fill-color);\n",
              "    }\n",
              "    90% {\n",
              "      border-color: transparent;\n",
              "      border-bottom-color: var(--fill-color);\n",
              "    }\n",
              "  }\n",
              "</style>\n",
              "\n",
              "  <script>\n",
              "    async function quickchart(key) {\n",
              "      const quickchartButtonEl =\n",
              "        document.querySelector('#' + key + ' button');\n",
              "      quickchartButtonEl.disabled = true;  // To prevent multiple clicks.\n",
              "      quickchartButtonEl.classList.add('colab-df-spinner');\n",
              "      try {\n",
              "        const charts = await google.colab.kernel.invokeFunction(\n",
              "            'suggestCharts', [key], {});\n",
              "      } catch (error) {\n",
              "        console.error('Error during call to suggestCharts:', error);\n",
              "      }\n",
              "      quickchartButtonEl.classList.remove('colab-df-spinner');\n",
              "      quickchartButtonEl.classList.add('colab-df-quickchart-complete');\n",
              "    }\n",
              "    (() => {\n",
              "      let quickchartButtonEl =\n",
              "        document.querySelector('#df-e2510103-bf5c-4f81-a5fc-a7a1c3dc5aa3 button');\n",
              "      quickchartButtonEl.style.display =\n",
              "        google.colab.kernel.accessAllowed ? 'block' : 'none';\n",
              "    })();\n",
              "  </script>\n",
              "</div>\n",
              "\n",
              "    </div>\n",
              "  </div>\n"
            ],
            "application/vnd.google.colaboratory.intrinsic+json": {
              "type": "dataframe",
              "variable_name": "reviews",
              "summary": "{\n  \"name\": \"reviews\",\n  \"rows\": 10000,\n  \"fields\": [\n    {\n      \"column\": \"label\",\n      \"properties\": {\n        \"dtype\": \"category\",\n        \"num_unique_values\": 2,\n        \"samples\": [\n          \"neg\",\n          \"pos\"\n        ],\n        \"semantic_type\": \"\",\n        \"description\": \"\"\n      }\n    },\n    {\n      \"column\": \"review\",\n      \"properties\": {\n        \"dtype\": \"string\",\n        \"num_unique_values\": 10000,\n        \"samples\": [\n          \"I Know I'm in the Minority Here, But...: I'm so sorry to be such a spoilsport, but I found this is a terrible book and a worse series. Leaving aside all the wild inaccuracies - one of the main ones being Auel's portrayal of Neandertals as doltish brutes -the heroine is constantly making one earthshaking discovery after another - shampoo, domestication of animals, law of genetics, sex=pregnancy, and, last but not least, tampax. No one else can figure anything out, but there she is, churning out one Nobel-Laureate discovery after another. I'm sure in one of the later books she will be found making a short-wave radio out of a large rock. It became really maddening.\",\n          \"Disappointing: This is the 4th Clavell book I've read, I was more than a little disappointed. I've read them in order so far, Shogun and Tai-pan for me were breathtaking, long books which I sped through. Gai-jin was more of a chore, with not much of ending. I found King Rat dull, I think the story wasn't too interesting. Other customers have commented on how harsh the prison was - too be honest, I thought it would've been worse. The King had none of the charisma of the heroes in the other books, and I found myself not really caring whether or not either him or Marlowe made it. Although a lot was made of their inner feelings, this made me feel that they were both just shallow people.\"\n        ],\n        \"semantic_type\": \"\",\n        \"description\": \"\"\n      }\n    }\n  ]\n}"
            }
          },
          "metadata": {},
          "execution_count": 6
        }
      ]
    },
    {
      "cell_type": "code",
      "source": [
        "# check for null values\n",
        "reviews.isnull().sum()"
      ],
      "metadata": {
        "colab": {
          "base_uri": "https://localhost:8080/",
          "height": 146
        },
        "id": "NT1gQ-1DO0mz",
        "outputId": "93e7bfe1-c7fa-4761-b61f-af78816f7151"
      },
      "execution_count": 7,
      "outputs": [
        {
          "output_type": "execute_result",
          "data": {
            "text/plain": [
              "label     0\n",
              "review    0\n",
              "dtype: int64"
            ],
            "text/html": [
              "<div>\n",
              "<style scoped>\n",
              "    .dataframe tbody tr th:only-of-type {\n",
              "        vertical-align: middle;\n",
              "    }\n",
              "\n",
              "    .dataframe tbody tr th {\n",
              "        vertical-align: top;\n",
              "    }\n",
              "\n",
              "    .dataframe thead th {\n",
              "        text-align: right;\n",
              "    }\n",
              "</style>\n",
              "<table border=\"1\" class=\"dataframe\">\n",
              "  <thead>\n",
              "    <tr style=\"text-align: right;\">\n",
              "      <th></th>\n",
              "      <th>0</th>\n",
              "    </tr>\n",
              "  </thead>\n",
              "  <tbody>\n",
              "    <tr>\n",
              "      <th>label</th>\n",
              "      <td>0</td>\n",
              "    </tr>\n",
              "    <tr>\n",
              "      <th>review</th>\n",
              "      <td>0</td>\n",
              "    </tr>\n",
              "  </tbody>\n",
              "</table>\n",
              "</div><br><label><b>dtype:</b> int64</label>"
            ]
          },
          "metadata": {},
          "execution_count": 7
        }
      ]
    },
    {
      "cell_type": "markdown",
      "source": [
        "### *Seems like there is no null values in the given dataset*"
      ],
      "metadata": {
        "id": "laPkjVYLP3aB"
      }
    },
    {
      "cell_type": "markdown",
      "source": [
        "# 3. Perform sentiment Analysis Using Logistic Regression and KNN Classifier based on the categories given in the dataset."
      ],
      "metadata": {
        "id": "BOpk_6BXP-qn"
      }
    },
    {
      "cell_type": "code",
      "source": [
        "X = reviews['review']\n",
        "y = reviews['label']\n",
        "print(X.shape)\n",
        "print(y.shape)"
      ],
      "metadata": {
        "colab": {
          "base_uri": "https://localhost:8080/"
        },
        "id": "BykcVARuP8n6",
        "outputId": "3f1e9ea9-3e9a-4b0b-9217-3bbd343d6e16"
      },
      "execution_count": 10,
      "outputs": [
        {
          "output_type": "stream",
          "name": "stdout",
          "text": [
            "(10000,)\n",
            "(10000,)\n"
          ]
        }
      ]
    },
    {
      "cell_type": "code",
      "source": [
        "# train test split\n",
        "X_trian, X_test, y_train, y_test = train_test_split(X, y, test_size=0.2, random_state=42)\n",
        "\n",
        "print(X_trian.shape)\n",
        "print(X_test.shape)\n",
        "print(y_train.shape)\n",
        "print(y_test.shape)"
      ],
      "metadata": {
        "colab": {
          "base_uri": "https://localhost:8080/"
        },
        "id": "KOcmBs6DQ-uE",
        "outputId": "625e99d2-bce1-49fd-ea18-811344bc2b3c"
      },
      "execution_count": 11,
      "outputs": [
        {
          "output_type": "stream",
          "name": "stdout",
          "text": [
            "(8000,)\n",
            "(2000,)\n",
            "(8000,)\n",
            "(2000,)\n"
          ]
        }
      ]
    },
    {
      "cell_type": "code",
      "source": [
        "# Pipeline - TfidfVectorizer, Logistic Regression\n",
        "lr_pipe = Pipeline([\n",
        "    ('tfidf', TfidfVectorizer()),\n",
        "    ('lr', LogisticRegression())\n",
        "])\n",
        "\n",
        "# logistic Regression\n",
        "lr_pipe.fit(X_trian, y_train)\n",
        "y_pred_lr = lr_pipe.predict(X_test)"
      ],
      "metadata": {
        "id": "_9RdLLi1Rd3k"
      },
      "execution_count": 13,
      "outputs": []
    },
    {
      "cell_type": "code",
      "source": [
        "# Pipeline - TfidfVectorizer, KNN Classifer\n",
        "knn_pipe = Pipeline([\n",
        "    ('tfidf', TfidfVectorizer()),\n",
        "    ('knn', KNeighborsClassifier())\n",
        "])\n",
        "\n",
        "# KNN Classifer\n",
        "knn_pipe.fit(X_trian, y_train)\n",
        "y_pred_knn = knn_pipe.predict(X_test)"
      ],
      "metadata": {
        "id": "pnXkbBabRkwN"
      },
      "execution_count": 14,
      "outputs": []
    },
    {
      "cell_type": "markdown",
      "source": [
        "# 4. Create confusion matrix.\n",
        "# 5. Calculate the Accuracy, Precision, Recall and F1-Score."
      ],
      "metadata": {
        "id": "4t__ZrJKThJ6"
      }
    },
    {
      "cell_type": "code",
      "source": [
        "# evaluation\n",
        "print('\\nLogistic Regression\\n')\n",
        "print(confusion_matrix(y_test, y_pred_lr))\n",
        "print(classification_report(y_test, y_pred_lr))\n",
        "print('\\n\\n----------------------------------')\n",
        "\n",
        "print('\\nKNN Classifier\\n')\n",
        "print(confusion_matrix(y_test, y_pred_knn))\n",
        "print(classification_report(y_test, y_pred_knn))"
      ],
      "metadata": {
        "colab": {
          "base_uri": "https://localhost:8080/"
        },
        "id": "wx-BhtmZSxX3",
        "outputId": "1a686766-595e-49d5-bc95-b625bc09ee25"
      },
      "execution_count": 17,
      "outputs": [
        {
          "output_type": "stream",
          "name": "stdout",
          "text": [
            "\n",
            "Logistic Regression\n",
            "\n",
            "[[911 126]\n",
            " [142 821]]\n",
            "              precision    recall  f1-score   support\n",
            "\n",
            "         neg       0.87      0.88      0.87      1037\n",
            "         pos       0.87      0.85      0.86       963\n",
            "\n",
            "    accuracy                           0.87      2000\n",
            "   macro avg       0.87      0.87      0.87      2000\n",
            "weighted avg       0.87      0.87      0.87      2000\n",
            "\n",
            "\n",
            "\n",
            "----------------------------------\n",
            "\n",
            "KNN Classifier\n",
            "\n",
            "[[768 269]\n",
            " [255 708]]\n",
            "              precision    recall  f1-score   support\n",
            "\n",
            "         neg       0.75      0.74      0.75      1037\n",
            "         pos       0.72      0.74      0.73       963\n",
            "\n",
            "    accuracy                           0.74      2000\n",
            "   macro avg       0.74      0.74      0.74      2000\n",
            "weighted avg       0.74      0.74      0.74      2000\n",
            "\n"
          ]
        }
      ]
    },
    {
      "cell_type": "markdown",
      "source": [
        "# 6. Provide complete analysis of Sentiment Analysis.\n",
        "\n",
        "#### *Based on the results, Logistic Regression shows a better overall performance in this sentiment analysis task. It has higher accuracy, more balanced precision and recall, and generally higher F1-scores for both classes. KNN Classifier, while decent in identifying negative sentiment, has lower accuracy and precision in identifying positive sentiment. Therefore, for this specific scenario, Logistic Regression is a more appropriate choice for sentiment classification.*"
      ],
      "metadata": {
        "id": "N7ETu0MNUqcQ"
      }
    },
    {
      "cell_type": "markdown",
      "source": [
        "# 7. Pass some random sentiments to check the performance of the model.\n",
        "# 8. Compare the performance of your classifier with vader."
      ],
      "metadata": {
        "id": "XmFmHrnfV471"
      }
    },
    {
      "cell_type": "code",
      "source": [
        "vader = SentimentIntensityAnalyzer()"
      ],
      "metadata": {
        "id": "jngxOht-U-uI"
      },
      "execution_count": 20,
      "outputs": []
    },
    {
      "cell_type": "code",
      "source": [
        "def sentiment_analysis(text):\n",
        "    # polarity_scores method of SentimentIntensityAnalyzer\n",
        "    # object gives a sentiment dictionary.\n",
        "    # which contains pos, neg, neu, and compound scores.\n",
        "    sentiment_scores = vader.polarity_scores(text)\n",
        "\n",
        "    print(\"Overall sentiment dictionary is : \", sentiment_scores)\n",
        "    print(\"sentence was rated as \", \"{:.2f}\".format(sentiment_scores['neg']*100), \"% Negative\")\n",
        "    print(\"sentence was rated as \", \"{:.2f}\".format(sentiment_scores['neu']*100), \"% Neutral\")\n",
        "    print(\"sentence was rated as \", \"{:.2f}\".format(sentiment_scores['pos']*100), \"% Positive\")\n",
        "\n",
        "    # decide sentiment as positive, negative and neutral\n",
        "    if sentiment_scores['compound'] >= 0.05 :\n",
        "        print(\"Positive\")\n",
        "    elif sentiment_scores['compound'] <= - 0.05 :\n",
        "        print(\"Negative\")\n",
        "    else :\n",
        "        print(\"Neutral\")"
      ],
      "metadata": {
        "id": "GcEfMrXSXCdy"
      },
      "execution_count": 24,
      "outputs": []
    },
    {
      "cell_type": "code",
      "source": [
        "# Test VADER on some samples\n",
        "random_reviews = [\n",
        "    \"This product is a game-changer! I highly recommend it.\",\n",
        "    \"I'm extremely disappointed with this purchase. It's a waste of money.\",\n",
        "    \"It's an okay product, but nothing extraordinary.\",\n",
        "    \"I'm so impressed with the quality and performance!\",\n",
        "    \"This is the worst product I've ever used. Avoid it at all costs.\",\n",
        "    \"It's a decent option, but there are better alternatives available.\"\n",
        "]"
      ],
      "metadata": {
        "id": "byz7RgBYXIHx"
      },
      "execution_count": 27,
      "outputs": []
    },
    {
      "cell_type": "code",
      "source": [
        "for review in random_reviews:\n",
        "    print(\"\\nReview:\", review)\n",
        "    sentiment_analysis(review)\n",
        "    print(\"\\n-------------------\")"
      ],
      "metadata": {
        "colab": {
          "base_uri": "https://localhost:8080/"
        },
        "id": "tcRnVMavXR1n",
        "outputId": "d105047a-096a-4d53-d078-08828fc7d0fb"
      },
      "execution_count": 28,
      "outputs": [
        {
          "output_type": "stream",
          "name": "stdout",
          "text": [
            "\n",
            "Review: This product is a game-changer! I highly recommend it.\n",
            "Overall sentiment dictionary is :  {'neg': 0.0, 'neu': 0.722, 'pos': 0.278, 'compound': 0.474}\n",
            "sentence was rated as  0.00 % Negative\n",
            "sentence was rated as  72.20 % Neutral\n",
            "sentence was rated as  27.80 % Positive\n",
            "Positive\n",
            "\n",
            "-------------------\n",
            "\n",
            "Review: I'm extremely disappointed with this purchase. It's a waste of money.\n",
            "Overall sentiment dictionary is :  {'neg': 0.408, 'neu': 0.592, 'pos': 0.0, 'compound': -0.7346}\n",
            "sentence was rated as  40.80 % Negative\n",
            "sentence was rated as  59.20 % Neutral\n",
            "sentence was rated as  0.00 % Positive\n",
            "Negative\n",
            "\n",
            "-------------------\n",
            "\n",
            "Review: It's an okay product, but nothing extraordinary.\n",
            "Overall sentiment dictionary is :  {'neg': 0.0, 'neu': 0.805, 'pos': 0.195, 'compound': 0.1154}\n",
            "sentence was rated as  0.00 % Negative\n",
            "sentence was rated as  80.50 % Neutral\n",
            "sentence was rated as  19.50 % Positive\n",
            "Positive\n",
            "\n",
            "-------------------\n",
            "\n",
            "Review: I'm so impressed with the quality and performance!\n",
            "Overall sentiment dictionary is :  {'neg': 0.0, 'neu': 0.655, 'pos': 0.345, 'compound': 0.5697}\n",
            "sentence was rated as  0.00 % Negative\n",
            "sentence was rated as  65.50 % Neutral\n",
            "sentence was rated as  34.50 % Positive\n",
            "Positive\n",
            "\n",
            "-------------------\n",
            "\n",
            "Review: This is the worst product I've ever used. Avoid it at all costs.\n",
            "Overall sentiment dictionary is :  {'neg': 0.364, 'neu': 0.636, 'pos': 0.0, 'compound': -0.743}\n",
            "sentence was rated as  36.40 % Negative\n",
            "sentence was rated as  63.60 % Neutral\n",
            "sentence was rated as  0.00 % Positive\n",
            "Negative\n",
            "\n",
            "-------------------\n",
            "\n",
            "Review: It's a decent option, but there are better alternatives available.\n",
            "Overall sentiment dictionary is :  {'neg': 0.0, 'neu': 0.7, 'pos': 0.3, 'compound': 0.5927}\n",
            "sentence was rated as  0.00 % Negative\n",
            "sentence was rated as  70.00 % Neutral\n",
            "sentence was rated as  30.00 % Positive\n",
            "Positive\n",
            "\n",
            "-------------------\n"
          ]
        }
      ]
    },
    {
      "cell_type": "markdown",
      "source": [
        "### Individual Sentiment Scores:\n",
        "\n",
        "These scores represent the proportion of text that falls into each sentiment category (positive, negative, neutral). A high neutral score indicates that a significant portion of the text doesn't express strong positive or negative sentiment.\n",
        "Example: A review like \"The product is okay, but the delivery was slow\" might have a high neutral score because \"the product is okay\" is a relatively neutral statement, even though \"delivery was slow\" expresses negativity.\n",
        "\n",
        "### Compound Score:\n",
        "\n",
        "This score is a normalized, aggregated measure of overall sentiment, taking into account the intensity and distribution of positive and negative words in the text. It ranges from -1 (most extreme negative) to +1 (most extreme positive).\n",
        "Even if a text has a high neutral score, the compound score can still lean towards positive or negative based on the presence and intensity of other sentiment-bearing words.\n",
        "Example: In the previous review, despite the neutral \"the product is okay,\" the negative sentiment from \"delivery was slow\" might be strong enough to push the compound score towards negative.\n",
        "\n",
        "### VADER's Algorithm:\n",
        "\n",
        "VADER (Valence Aware Dictionary and sEntiment Reasoner) uses a lexicon of sentiment-related words and rules to calculate sentiment scores. It considers not only individual words but also their context and intensity.\n",
        "This means that even if a text appears mostly neutral, VADER can detect subtle sentiment cues and assign a positive or negative compound score based on its overall analysis.\n"
      ],
      "metadata": {
        "id": "QskIvtjTZSyJ"
      }
    },
    {
      "cell_type": "code",
      "source": [],
      "metadata": {
        "id": "74nYAx52ZUHU"
      },
      "execution_count": null,
      "outputs": []
    }
  ]
}